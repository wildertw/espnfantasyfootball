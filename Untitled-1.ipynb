{
 "cells": [
  {
   "cell_type": "code",
   "execution_count": 1,
   "metadata": {},
   "outputs": [],
   "source": [
    "import pandas as pd"
   ]
  },
  {
   "cell_type": "code",
   "execution_count": 2,
   "metadata": {},
   "outputs": [],
   "source": [
    "import espnfantasyfootball as espn"
   ]
  },
  {
   "cell_type": "code",
   "execution_count": 3,
   "metadata": {},
   "outputs": [],
   "source": [
    "import espnsecrets"
   ]
  },
  {
   "cell_type": "code",
   "execution_count": 4,
   "metadata": {},
   "outputs": [],
   "source": [
    "league = espn.FantasyLeague(league_id=176253, year=2023,\n",
    "                            swid=espnsecrets.swid, espn_s2=espnsecrets.espn_s2)"
   ]
  },
  {
   "cell_type": "code",
   "execution_count": 5,
   "metadata": {},
   "outputs": [],
   "source": [
    "player_data = league.get_league_data()"
   ]
  },
  {
   "cell_type": "code",
   "execution_count": 6,
   "metadata": {},
   "outputs": [
    {
     "name": "stdout",
     "output_type": "stream",
     "text": [
      "     Week        PlayerName  PlayerScoreActual  PlayerScoreProjected  \\\n",
      "0       1     Austin Ekeler                9.2             17.437181   \n",
      "1       1     D'Andre Swift               25.0             13.820447   \n",
      "2       1       CeeDee Lamb                3.9             14.013037   \n",
      "3       1        Kyle Pitts                2.9              9.539474   \n",
      "4       1  Courtland Sutton                9.2             10.887781   \n",
      "..    ...               ...                ...                   ...   \n",
      "145    17        James Cook                0.0              6.986978   \n",
      "146    17    Raheem Mostert               19.1              7.626983   \n",
      "147    17     Chuba Hubbard                8.0              7.812254   \n",
      "148    17         Zack Moss                7.4             11.229246   \n",
      "149    17       Giants D/ST               14.0              8.470564   \n",
      "\n",
      "     PlayerFantasyTeam PlayerRosterSlot         TeamName     FullName  \n",
      "0                    1               RB  Unknown Unknown  Trey Wilder  \n",
      "1                    1               RB  Unknown Unknown  Trey Wilder  \n",
      "2                    1               WR  Unknown Unknown  Trey Wilder  \n",
      "3                    1               TE  Unknown Unknown  Trey Wilder  \n",
      "4                    1               NA  Unknown Unknown  Trey Wilder  \n",
      "..                 ...              ...              ...          ...  \n",
      "145                 10            Bench  Unknown Unknown     Lee Galt  \n",
      "146                 10            Bench  Unknown Unknown     Lee Galt  \n",
      "147                 10            Bench  Unknown Unknown     Lee Galt  \n",
      "148                 10               RB  Unknown Unknown     Lee Galt  \n",
      "149                 10             D/ST  Unknown Unknown     Lee Galt  \n",
      "\n",
      "[2550 rows x 8 columns]\n"
     ]
    }
   ],
   "source": [
    "print(player_data)"
   ]
  },
  {
   "cell_type": "code",
   "execution_count": 7,
   "metadata": {},
   "outputs": [],
   "source": [
    "matchup_data = league.get_matchup_data()"
   ]
  },
  {
   "cell_type": "code",
   "execution_count": 8,
   "metadata": {},
   "outputs": [
    {
     "name": "stdout",
     "output_type": "stream",
     "text": [
      "      Week    Name1  Score1    Name2  Score2     Type\n",
      "0        1  nan nan   115.7  nan nan    97.2  Regular\n",
      "1        1  nan nan    93.1  nan nan   146.8  Regular\n",
      "2        1  nan nan    76.6  nan nan   125.0  Regular\n",
      "3        1  nan nan    96.9  nan nan   126.2  Regular\n",
      "4        1  nan nan    77.4  nan nan   108.2  Regular\n",
      "...    ...      ...     ...      ...     ...      ...\n",
      "1270    15  nan nan   203.1  nan nan   207.0  Playoff\n",
      "1271    15  nan nan   186.4  nan nan   192.8  Playoff\n",
      "1272    15  nan nan   170.4  nan nan   171.5  Playoff\n",
      "1273    15  nan nan   210.2  nan nan   209.0  Playoff\n",
      "1274    15  nan nan   220.2  nan nan   174.0  Playoff\n",
      "\n",
      "[1275 rows x 6 columns]\n"
     ]
    }
   ],
   "source": [
    "print(matchup_data)"
   ]
  },
  {
   "cell_type": "code",
   "execution_count": 9,
   "metadata": {},
   "outputs": [
    {
     "data": {
      "text/plain": [
       "<bound method NDFrame.to_excel of      Week        PlayerName  PlayerScoreActual  PlayerScoreProjected  \\\n",
       "0       1     Austin Ekeler                9.2             17.437181   \n",
       "1       1     D'Andre Swift               25.0             13.820447   \n",
       "2       1       CeeDee Lamb                3.9             14.013037   \n",
       "3       1        Kyle Pitts                2.9              9.539474   \n",
       "4       1  Courtland Sutton                9.2             10.887781   \n",
       "..    ...               ...                ...                   ...   \n",
       "145    17        James Cook                0.0              6.986978   \n",
       "146    17    Raheem Mostert               19.1              7.626983   \n",
       "147    17     Chuba Hubbard                8.0              7.812254   \n",
       "148    17         Zack Moss                7.4             11.229246   \n",
       "149    17       Giants D/ST               14.0              8.470564   \n",
       "\n",
       "     PlayerFantasyTeam PlayerRosterSlot         TeamName     FullName  \n",
       "0                    1               RB  Unknown Unknown  Trey Wilder  \n",
       "1                    1               RB  Unknown Unknown  Trey Wilder  \n",
       "2                    1               WR  Unknown Unknown  Trey Wilder  \n",
       "3                    1               TE  Unknown Unknown  Trey Wilder  \n",
       "4                    1               NA  Unknown Unknown  Trey Wilder  \n",
       "..                 ...              ...              ...          ...  \n",
       "145                 10            Bench  Unknown Unknown     Lee Galt  \n",
       "146                 10            Bench  Unknown Unknown     Lee Galt  \n",
       "147                 10            Bench  Unknown Unknown     Lee Galt  \n",
       "148                 10               RB  Unknown Unknown     Lee Galt  \n",
       "149                 10             D/ST  Unknown Unknown     Lee Galt  \n",
       "\n",
       "[2550 rows x 8 columns]>"
      ]
     },
     "execution_count": 9,
     "metadata": {},
     "output_type": "execute_result"
    }
   ],
   "source": [
    "player_data.to_excel"
   ]
  }
 ],
 "metadata": {
  "kernelspec": {
   "display_name": "Python 3",
   "language": "python",
   "name": "python3"
  },
  "language_info": {
   "codemirror_mode": {
    "name": "ipython",
    "version": 3
   },
   "file_extension": ".py",
   "mimetype": "text/x-python",
   "name": "python",
   "nbconvert_exporter": "python",
   "pygments_lexer": "ipython3",
   "version": "3.12.2"
  }
 },
 "nbformat": 4,
 "nbformat_minor": 2
}
